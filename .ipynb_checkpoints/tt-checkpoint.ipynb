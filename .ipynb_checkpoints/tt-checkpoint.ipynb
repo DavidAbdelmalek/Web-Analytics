{
 "cells": [
  {
   "cell_type": "code",
   "execution_count": 1,
   "metadata": {},
   "outputs": [
    {
     "name": "stdout",
     "output_type": "stream",
     "text": [
      "*** ERROR, no working Snap.py was found on your computer\n"
     ]
    }
   ],
   "source": [
    "status = False\n",
    "try:\n",
    "    import snap\n",
    "    version = snap.Version\n",
    "    i = snap.TInt(5)\n",
    "    if i == 5:\n",
    "        status = True\n",
    "except:\n",
    "    pass\n",
    "\n",
    "if status:\n",
    "    print \"SUCCESS, your version of Snap.py is %s\" % (version)\n",
    "else:\n",
    "    print \"*** ERROR, no working Snap.py was found on your computer\"\n"
   ]
  },
  {
   "cell_type": "code",
   "execution_count": null,
   "metadata": {},
   "outputs": [],
   "source": []
  }
 ],
 "metadata": {
  "kernelspec": {
   "display_name": "Python 2",
   "language": "python",
   "name": "python2"
  },
  "language_info": {
   "codemirror_mode": {
    "name": "ipython",
    "version": 2
   },
   "file_extension": ".py",
   "mimetype": "text/x-python",
   "name": "python",
   "nbconvert_exporter": "python",
   "pygments_lexer": "ipython2",
   "version": "2.7.15"
  }
 },
 "nbformat": 4,
 "nbformat_minor": 2
}
