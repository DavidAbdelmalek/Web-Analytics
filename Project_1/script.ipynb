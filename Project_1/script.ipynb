{
 "cells": [
  {
   "cell_type": "markdown",
   "metadata": {},
   "source": [
    "# Project: Arabic Movies investigation\n",
    "\n",
    "## Table of Contents\n",
    "<ul>\n",
    "<li><a href=\"#intro\">Introduction</a></li>\n",
    "<li><a href=\"#cleaning\">Data Cleaning</a></li>\n",
    "<li><a href=\"#eda\">Exploratory Data Analysis</a></li>\n",
    "<li><a href=\"#conclusions\">Conclusions</a></li>\n",
    "</ul>"
   ]
  },
  {
   "cell_type": "code",
   "execution_count": 1,
   "metadata": {},
   "outputs": [],
   "source": [
    "# Import statements for all of the packages that we gonna used for the following cells\n",
    "import numpy as np\n",
    "import pandas as pd\n",
    "import matplotlib.pyplot as plt\n",
    "import random\n",
    "import seaborn as sns"
   ]
  },
  {
   "cell_type": "markdown",
   "metadata": {},
   "source": [
    "<a id='intro'></a>\n",
    "# Introduction\n",
    "\n",
    "#### The dataset selected is the arabic movies dataset."
   ]
  },
  {
   "cell_type": "code",
   "execution_count": 2,
   "metadata": {},
   "outputs": [
    {
     "data": {
      "text/html": [
       "<div>\n",
       "<style scoped>\n",
       "    .dataframe tbody tr th:only-of-type {\n",
       "        vertical-align: middle;\n",
       "    }\n",
       "\n",
       "    .dataframe tbody tr th {\n",
       "        vertical-align: top;\n",
       "    }\n",
       "\n",
       "    .dataframe thead th {\n",
       "        text-align: right;\n",
       "    }\n",
       "</style>\n",
       "<table border=\"1\" class=\"dataframe\">\n",
       "  <thead>\n",
       "    <tr style=\"text-align: right;\">\n",
       "      <th></th>\n",
       "      <th>اسم الفيلم</th>\n",
       "      <th>تاريخ العرض</th>\n",
       "      <th>تصنيف الفيلم</th>\n",
       "      <th>مدة الفيلم (دقيقة)</th>\n",
       "      <th>ملخص</th>\n",
       "      <th>تأليف</th>\n",
       "      <th>تمثيل</th>\n",
       "      <th>إنتاج</th>\n",
       "      <th>تصوير</th>\n",
       "      <th>مونتاج</th>\n",
       "      <th>ديكور</th>\n",
       "      <th>ملابس</th>\n",
       "      <th>موسيقى</th>\n",
       "      <th>إخراج</th>\n",
       "      <th>توزيع</th>\n",
       "    </tr>\n",
       "  </thead>\n",
       "  <tbody>\n",
       "    <tr>\n",
       "      <th>0</th>\n",
       "      <td>قلب المرأة</td>\n",
       "      <td>6 مايو 1940</td>\n",
       "      <td>ﺭﻭﻣﺎﻧﺴﻲ</td>\n",
       "      <td>87</td>\n",
       "      <td>تدور أحداث الفيلم حول (خيرية)، الفتاة الثرية ا...</td>\n",
       "      <td>توجو مزراحي (أحمد المشرقي)</td>\n",
       "      <td>سليمان نجيب,أمينة رزق,دولت أبيض,عقيلة راتب,سلو...</td>\n",
       "      <td>NaN</td>\n",
       "      <td>عبدالحليم نصر</td>\n",
       "      <td>NaN</td>\n",
       "      <td>NaN</td>\n",
       "      <td>NaN</td>\n",
       "      <td>NaN</td>\n",
       "      <td>توجو مزراحي (أحمد المشرقي)</td>\n",
       "      <td>منتخبات بهنا فيلم</td>\n",
       "    </tr>\n",
       "    <tr>\n",
       "      <th>1</th>\n",
       "      <td>الورشة</td>\n",
       "      <td>28 نوفمبر 1940</td>\n",
       "      <td>ﺩﺭاﻣﺎ</td>\n",
       "      <td>105</td>\n",
       "      <td>يسافر الأسطى (علي عبدالرحمن) صاحب ورشة الميكان...</td>\n",
       "      <td>عزيزة أمير,محمود ذو الفقار</td>\n",
       "      <td>عزيزة أمير,محمود ذو الفقار,أنور وجدي,نجمة إبرا...</td>\n",
       "      <td>إيزيس فيلم</td>\n",
       "      <td>أرام ماراليان,فيرى فاركاش (فرانسوا فاركاش)</td>\n",
       "      <td>NaN</td>\n",
       "      <td>محمد كامل</td>\n",
       "      <td>NaN</td>\n",
       "      <td>عبدالحميد عبدالرحمن</td>\n",
       "      <td>إستيفان روستي</td>\n",
       "      <td>منتخبات بهنا فيلم</td>\n",
       "    </tr>\n",
       "    <tr>\n",
       "      <th>2</th>\n",
       "      <td>تحت السلاح</td>\n",
       "      <td>8 فبراير 1940</td>\n",
       "      <td>NaN</td>\n",
       "      <td>101.4</td>\n",
       "      <td>أمينة فتاة من أسرة عريقة، تقرر العائلة زواجها ...</td>\n",
       "      <td>NaN</td>\n",
       "      <td>أحمد علام,زوزو شكيب,عباس فارس,محمد الديب,زينات...</td>\n",
       "      <td>ألفيزى اورفانيللى</td>\n",
       "      <td>NaN</td>\n",
       "      <td>NaN</td>\n",
       "      <td>NaN</td>\n",
       "      <td>NaN</td>\n",
       "      <td>NaN</td>\n",
       "      <td>فؤاد الجزايرلي</td>\n",
       "      <td>NaN</td>\n",
       "    </tr>\n",
       "    <tr>\n",
       "      <th>3</th>\n",
       "      <td>حياة الظلام</td>\n",
       "      <td>1940</td>\n",
       "      <td>ﺩﺭاﻣﺎ</td>\n",
       "      <td>94</td>\n",
       "      <td>عائلة متوسطة الحال مكونة من زوج وزوجة وابنهما ...</td>\n",
       "      <td>محمود كامل حسن,أحمد بدرخان</td>\n",
       "      <td>ميمي شكيب,محسن سرحان,روحية خالد,فردوس محمد,علي...</td>\n",
       "      <td>محمد جمال الدين رفعت</td>\n",
       "      <td>محمد عبدالعظيم</td>\n",
       "      <td>جمال مدكور</td>\n",
       "      <td>علي عابد,روبرت شارفنبرج</td>\n",
       "      <td>NaN</td>\n",
       "      <td>بيرم التونسي,عبدالحميد عبدالرحمن,محمد الكحلاوي...</td>\n",
       "      <td>أحمد بدرخان,فريد الجندي</td>\n",
       "      <td>NaN</td>\n",
       "    </tr>\n",
       "    <tr>\n",
       "      <th>4</th>\n",
       "      <td>صرخة في الليل</td>\n",
       "      <td>31 اكتوبر 1940</td>\n",
       "      <td>NaN</td>\n",
       "      <td>110</td>\n",
       "      <td>لا تحفظ الزوجة الساقطة شرف زوجها الثرى فترتبط ...</td>\n",
       "      <td>السيد زيادة</td>\n",
       "      <td>بدر لاما,رجاء عبده,سميحة سميح,بشارة واكيم,منسى...</td>\n",
       "      <td>كوندور فيلم</td>\n",
       "      <td>إبراهيم شيبا</td>\n",
       "      <td>بدر لاما,ألبير نجيب</td>\n",
       "      <td>محروس زيادة</td>\n",
       "      <td>NaN</td>\n",
       "      <td>فريد غصن,يوسف صالح</td>\n",
       "      <td>إبراهيم لاما</td>\n",
       "      <td>منتخبات بهنا فيلم</td>\n",
       "    </tr>\n",
       "    <tr>\n",
       "      <th>5</th>\n",
       "      <td>أصحاب العقول</td>\n",
       "      <td>1940</td>\n",
       "      <td>NaN</td>\n",
       "      <td>101.4</td>\n",
       "      <td>كتب أحد المستكشفين الأوربيين إلى صديقه حمدي بك...</td>\n",
       "      <td>NaN</td>\n",
       "      <td>بهيجة المهدي,بشارة واكيم,فوزي منيب,سليمان نجيب</td>\n",
       "      <td>افلام وادى النيل (فهمي داود وشركاه)</td>\n",
       "      <td>ألفيزى اورفانيللى</td>\n",
       "      <td>NaN</td>\n",
       "      <td>NaN</td>\n",
       "      <td>NaN</td>\n",
       "      <td>NaN</td>\n",
       "      <td>ألفيزى اورفانيللى</td>\n",
       "      <td>NaN</td>\n",
       "    </tr>\n",
       "    <tr>\n",
       "      <th>6</th>\n",
       "      <td>الباشمقاول</td>\n",
       "      <td>18 يناير 1940</td>\n",
       "      <td>ﻛﻮﻣﻴﺪﻱ</td>\n",
       "      <td>85</td>\n",
       "      <td>تدور أحداث الفيلم حول المحامي \"ممتاز\" الذي يهو...</td>\n",
       "      <td>بديع خيري,توجو مزراحي (أحمد المشرقي)</td>\n",
       "      <td>فوزي الجزايرلي,ميمي شكيب,إحسان الجزايرلي,زوزو ...</td>\n",
       "      <td>توجو مزراحي (أحمد المشرقي),عبدالحميد زكي</td>\n",
       "      <td>محمود نصر,عبدالحليم نصر</td>\n",
       "      <td>NaN</td>\n",
       "      <td>NaN</td>\n",
       "      <td>NaN</td>\n",
       "      <td>فريد غصن</td>\n",
       "      <td>توجو مزراحي (أحمد المشرقي),إبراهيم حلمي</td>\n",
       "      <td>منتخبات بهنا فيلم</td>\n",
       "    </tr>\n",
       "    <tr>\n",
       "      <th>7</th>\n",
       "      <td>فتاة متمردة</td>\n",
       "      <td>18 مايو 1940</td>\n",
       "      <td>NaN</td>\n",
       "      <td>110</td>\n",
       "      <td>درية طالبة فى مدرسة داخلية، تربطها علاقة حب بش...</td>\n",
       "      <td>أحمد جلال</td>\n",
       "      <td>ماري كويني,محسن سرحان,أنور وجدي,عباس فارس,بديع...</td>\n",
       "      <td>لوتس فيلم (آسيا وشركاها)</td>\n",
       "      <td>عبدالمنعم صبحى,توليو كيارينى</td>\n",
       "      <td>ماري كويني</td>\n",
       "      <td>NaN</td>\n",
       "      <td>NaN</td>\n",
       "      <td>يوسف صالح,عبدالعزيز سلام,فريد غصن,ماري كويني,ش...</td>\n",
       "      <td>أحمد جلال,محمد زكى محمود</td>\n",
       "      <td>منتخبات بهنا فيلم</td>\n",
       "    </tr>\n",
       "    <tr>\n",
       "      <th>8</th>\n",
       "      <td>رجل بين امراتين</td>\n",
       "      <td>7 اكتوبر 1940</td>\n",
       "      <td>NaN</td>\n",
       "      <td>95</td>\n",
       "      <td>يتعرف رافت الرسام على امال عبد الشافى وهو يصطا...</td>\n",
       "      <td>السيد زيادة</td>\n",
       "      <td>بدر لاما,أمينة رزق,بدرية رأفت,فردوس محمد,عبدال...</td>\n",
       "      <td>كوندور فيلم</td>\n",
       "      <td>عبدالله الشيب</td>\n",
       "      <td>ألبير نجيب,بدر لاما</td>\n",
       "      <td>ستوديو لاما,محروس زيادة</td>\n",
       "      <td>NaN</td>\n",
       "      <td>يوسف صالح,سامي نعسان,أمينة رزق,بدر لاما,زوزو ش...</td>\n",
       "      <td>إبراهيم لاما</td>\n",
       "      <td>منتخبات بهنا فيلم</td>\n",
       "    </tr>\n",
       "    <tr>\n",
       "      <th>9</th>\n",
       "      <td>يوم سعيد</td>\n",
       "      <td>15 يناير 1940</td>\n",
       "      <td>ﺭﻭﻣﺎﻧﺴﻲ</td>\n",
       "      <td>125</td>\n",
       "      <td>(محمد كمال) شاب بسيط يهوى الموسيقى والغناء، وي...</td>\n",
       "      <td>محمد كريم,عبدالوارث عسر,عباس علام</td>\n",
       "      <td>محمد عبدالوهاب,علوية جميل,فاطمة محجوب,فاتن حما...</td>\n",
       "      <td>أفلام عبدالوهاب</td>\n",
       "      <td>محمد عبدالعظيم,جورج بنوا,بريما فيرا,مصطفى حسن</td>\n",
       "      <td>محمد كريم</td>\n",
       "      <td>حسين رستم</td>\n",
       "      <td>NaN</td>\n",
       "      <td>محمد عبدالوهاب,أحمد رامي,عزت الهجين,بشارة الخو...</td>\n",
       "      <td>محمد كريم</td>\n",
       "      <td>NaN</td>\n",
       "    </tr>\n",
       "  </tbody>\n",
       "</table>\n",
       "</div>"
      ],
      "text/plain": [
       "        اسم الفيلم     تاريخ العرض تصنيف الفيلم مدة الفيلم (دقيقة)  \\\n",
       "0       قلب المرأة     6 مايو 1940      ﺭﻭﻣﺎﻧﺴﻲ                 87   \n",
       "1           الورشة  28 نوفمبر 1940        ﺩﺭاﻣﺎ                105   \n",
       "2       تحت السلاح   8 فبراير 1940          NaN              101.4   \n",
       "3      حياة الظلام            1940        ﺩﺭاﻣﺎ                 94   \n",
       "4    صرخة في الليل  31 اكتوبر 1940          NaN                110   \n",
       "5     أصحاب العقول            1940          NaN              101.4   \n",
       "6       الباشمقاول   18 يناير 1940       ﻛﻮﻣﻴﺪﻱ                 85   \n",
       "7      فتاة متمردة    18 مايو 1940          NaN                110   \n",
       "8  رجل بين امراتين   7 اكتوبر 1940          NaN                 95   \n",
       "9         يوم سعيد   15 يناير 1940      ﺭﻭﻣﺎﻧﺴﻲ                125   \n",
       "\n",
       "                                                ملخص  \\\n",
       "0  تدور أحداث الفيلم حول (خيرية)، الفتاة الثرية ا...   \n",
       "1  يسافر الأسطى (علي عبدالرحمن) صاحب ورشة الميكان...   \n",
       "2  أمينة فتاة من أسرة عريقة، تقرر العائلة زواجها ...   \n",
       "3  عائلة متوسطة الحال مكونة من زوج وزوجة وابنهما ...   \n",
       "4  لا تحفظ الزوجة الساقطة شرف زوجها الثرى فترتبط ...   \n",
       "5  كتب أحد المستكشفين الأوربيين إلى صديقه حمدي بك...   \n",
       "6  تدور أحداث الفيلم حول المحامي \"ممتاز\" الذي يهو...   \n",
       "7  درية طالبة فى مدرسة داخلية، تربطها علاقة حب بش...   \n",
       "8  يتعرف رافت الرسام على امال عبد الشافى وهو يصطا...   \n",
       "9  (محمد كمال) شاب بسيط يهوى الموسيقى والغناء، وي...   \n",
       "\n",
       "                                  تأليف  \\\n",
       "0            توجو مزراحي (أحمد المشرقي)   \n",
       "1            عزيزة أمير,محمود ذو الفقار   \n",
       "2                                   NaN   \n",
       "3            محمود كامل حسن,أحمد بدرخان   \n",
       "4                           السيد زيادة   \n",
       "5                                   NaN   \n",
       "6  بديع خيري,توجو مزراحي (أحمد المشرقي)   \n",
       "7                             أحمد جلال   \n",
       "8                           السيد زيادة   \n",
       "9     محمد كريم,عبدالوارث عسر,عباس علام   \n",
       "\n",
       "                                               تمثيل  \\\n",
       "0  سليمان نجيب,أمينة رزق,دولت أبيض,عقيلة راتب,سلو...   \n",
       "1  عزيزة أمير,محمود ذو الفقار,أنور وجدي,نجمة إبرا...   \n",
       "2  أحمد علام,زوزو شكيب,عباس فارس,محمد الديب,زينات...   \n",
       "3  ميمي شكيب,محسن سرحان,روحية خالد,فردوس محمد,علي...   \n",
       "4  بدر لاما,رجاء عبده,سميحة سميح,بشارة واكيم,منسى...   \n",
       "5     بهيجة المهدي,بشارة واكيم,فوزي منيب,سليمان نجيب   \n",
       "6  فوزي الجزايرلي,ميمي شكيب,إحسان الجزايرلي,زوزو ...   \n",
       "7  ماري كويني,محسن سرحان,أنور وجدي,عباس فارس,بديع...   \n",
       "8  بدر لاما,أمينة رزق,بدرية رأفت,فردوس محمد,عبدال...   \n",
       "9  محمد عبدالوهاب,علوية جميل,فاطمة محجوب,فاتن حما...   \n",
       "\n",
       "                                      إنتاج  \\\n",
       "0                                       NaN   \n",
       "1                                إيزيس فيلم   \n",
       "2                         ألفيزى اورفانيللى   \n",
       "3                      محمد جمال الدين رفعت   \n",
       "4                               كوندور فيلم   \n",
       "5       افلام وادى النيل (فهمي داود وشركاه)   \n",
       "6  توجو مزراحي (أحمد المشرقي),عبدالحميد زكي   \n",
       "7                  لوتس فيلم (آسيا وشركاها)   \n",
       "8                               كوندور فيلم   \n",
       "9                           أفلام عبدالوهاب   \n",
       "\n",
       "                                           تصوير               مونتاج  \\\n",
       "0                                  عبدالحليم نصر                  NaN   \n",
       "1     أرام ماراليان,فيرى فاركاش (فرانسوا فاركاش)                  NaN   \n",
       "2                                            NaN                  NaN   \n",
       "3                                 محمد عبدالعظيم           جمال مدكور   \n",
       "4                                   إبراهيم شيبا  بدر لاما,ألبير نجيب   \n",
       "5                              ألفيزى اورفانيللى                  NaN   \n",
       "6                        محمود نصر,عبدالحليم نصر                  NaN   \n",
       "7                   عبدالمنعم صبحى,توليو كيارينى           ماري كويني   \n",
       "8                                  عبدالله الشيب  ألبير نجيب,بدر لاما   \n",
       "9  محمد عبدالعظيم,جورج بنوا,بريما فيرا,مصطفى حسن            محمد كريم   \n",
       "\n",
       "                     ديكور ملابس  \\\n",
       "0                      NaN   NaN   \n",
       "1                محمد كامل   NaN   \n",
       "2                      NaN   NaN   \n",
       "3  علي عابد,روبرت شارفنبرج   NaN   \n",
       "4              محروس زيادة   NaN   \n",
       "5                      NaN   NaN   \n",
       "6                      NaN   NaN   \n",
       "7                      NaN   NaN   \n",
       "8  ستوديو لاما,محروس زيادة   NaN   \n",
       "9                حسين رستم   NaN   \n",
       "\n",
       "                                              موسيقى  \\\n",
       "0                                                NaN   \n",
       "1                                عبدالحميد عبدالرحمن   \n",
       "2                                                NaN   \n",
       "3  بيرم التونسي,عبدالحميد عبدالرحمن,محمد الكحلاوي...   \n",
       "4                                 فريد غصن,يوسف صالح   \n",
       "5                                                NaN   \n",
       "6                                           فريد غصن   \n",
       "7  يوسف صالح,عبدالعزيز سلام,فريد غصن,ماري كويني,ش...   \n",
       "8  يوسف صالح,سامي نعسان,أمينة رزق,بدر لاما,زوزو ش...   \n",
       "9  محمد عبدالوهاب,أحمد رامي,عزت الهجين,بشارة الخو...   \n",
       "\n",
       "                                     إخراج              توزيع  \n",
       "0               توجو مزراحي (أحمد المشرقي)  منتخبات بهنا فيلم  \n",
       "1                            إستيفان روستي  منتخبات بهنا فيلم  \n",
       "2                           فؤاد الجزايرلي                NaN  \n",
       "3                  أحمد بدرخان,فريد الجندي                NaN  \n",
       "4                             إبراهيم لاما  منتخبات بهنا فيلم  \n",
       "5                        ألفيزى اورفانيللى                NaN  \n",
       "6  توجو مزراحي (أحمد المشرقي),إبراهيم حلمي  منتخبات بهنا فيلم  \n",
       "7                 أحمد جلال,محمد زكى محمود  منتخبات بهنا فيلم  \n",
       "8                             إبراهيم لاما  منتخبات بهنا فيلم  \n",
       "9                                محمد كريم                NaN  "
      ]
     },
     "execution_count": 2,
     "metadata": {},
     "output_type": "execute_result"
    }
   ],
   "source": [
    "# Load your data and print out a few lines.\n",
    "df = pd.read_csv('data.csv')\n",
    "df.head(10)"
   ]
  },
  {
   "cell_type": "markdown",
   "metadata": {},
   "source": [
    "<a id='cleaning'></a>\n",
    "## Data Cleaning\n",
    "<ul>\n",
    "    <li> <a href='#Remove'>Remove un-needed features</a>\n",
    "    <li> <a href=\"#Rename\">Rename columns </a>\n",
    "    <li> <a href=\"#Null\">Remove null</a>\n",
    "<ul>"
   ]
  },
  {
   "cell_type": "code",
   "execution_count": 3,
   "metadata": {},
   "outputs": [
    {
     "data": {
      "text/plain": [
       "(2372, 15)"
      ]
     },
     "execution_count": 3,
     "metadata": {},
     "output_type": "execute_result"
    }
   ],
   "source": [
    "# The shape of the database\n",
    "df.shape"
   ]
  },
  {
   "cell_type": "code",
   "execution_count": 4,
   "metadata": {},
   "outputs": [
    {
     "name": "stdout",
     "output_type": "stream",
     "text": [
      "<class 'pandas.core.frame.DataFrame'>\n",
      "RangeIndex: 2372 entries, 0 to 2371\n",
      "Data columns (total 15 columns):\n",
      "اسم الفيلم            2372 non-null object\n",
      "تاريخ العرض           2372 non-null object\n",
      "تصنيف الفيلم          1219 non-null object\n",
      "مدة الفيلم (دقيقة)    2372 non-null object\n",
      "ملخص                  2071 non-null object\n",
      "تأليف                 2098 non-null object\n",
      "تمثيل                 2270 non-null object\n",
      "إنتاج                 1824 non-null object\n",
      "تصوير                 1908 non-null object\n",
      "مونتاج                1740 non-null object\n",
      "ديكور                 1470 non-null object\n",
      "ملابس                 276 non-null object\n",
      "موسيقى                1398 non-null object\n",
      "إخراج                 2196 non-null object\n",
      "توزيع                 1114 non-null object\n",
      "dtypes: object(15)\n",
      "memory usage: 278.0+ KB\n"
     ]
    }
   ],
   "source": [
    "##Now it is time to discuss the structure of the data to find if it is cleaned or not by three steps\n",
    "# 1. rename columns to english in order to easily process them\n",
    "# 2. remove rows that contain null values\n",
    "# 3. \n",
    "df.info()"
   ]
  },
  {
   "cell_type": "markdown",
   "metadata": {},
   "source": [
    "<a id='Remove'></a>\n",
    "### Remove un-needed features\n",
    "\n",
    "**In this section, we just remove un-needed features to fastin processing**"
   ]
  },
  {
   "cell_type": "code",
   "execution_count": 5,
   "metadata": {},
   "outputs": [],
   "source": [
    "# After discussing the structure of the data and any problems that need to be\n",
    "#   cleaned, perform those cleaning steps in the second part of this section.\n",
    "#imdb_id\n",
    "columns_deleted=['تأليف','ملابس','مدة الفيلم (دقيقة)','مونتاج','تصوير','موسيقى','توزيع','إخراج','ديكور','إنتاج','إنتاج','ملخص']\n",
    "df.drop(columns_deleted,axis=1,inplace= True)"
   ]
  },
  {
   "cell_type": "code",
   "execution_count": 6,
   "metadata": {},
   "outputs": [
    {
     "data": {
      "text/html": [
       "<div>\n",
       "<style scoped>\n",
       "    .dataframe tbody tr th:only-of-type {\n",
       "        vertical-align: middle;\n",
       "    }\n",
       "\n",
       "    .dataframe tbody tr th {\n",
       "        vertical-align: top;\n",
       "    }\n",
       "\n",
       "    .dataframe thead th {\n",
       "        text-align: right;\n",
       "    }\n",
       "</style>\n",
       "<table border=\"1\" class=\"dataframe\">\n",
       "  <thead>\n",
       "    <tr style=\"text-align: right;\">\n",
       "      <th></th>\n",
       "      <th>اسم الفيلم</th>\n",
       "      <th>تاريخ العرض</th>\n",
       "      <th>تصنيف الفيلم</th>\n",
       "      <th>تمثيل</th>\n",
       "    </tr>\n",
       "  </thead>\n",
       "  <tbody>\n",
       "    <tr>\n",
       "      <th>0</th>\n",
       "      <td>قلب المرأة</td>\n",
       "      <td>6 مايو 1940</td>\n",
       "      <td>ﺭﻭﻣﺎﻧﺴﻲ</td>\n",
       "      <td>سليمان نجيب,أمينة رزق,دولت أبيض,عقيلة راتب,سلو...</td>\n",
       "    </tr>\n",
       "    <tr>\n",
       "      <th>1</th>\n",
       "      <td>الورشة</td>\n",
       "      <td>28 نوفمبر 1940</td>\n",
       "      <td>ﺩﺭاﻣﺎ</td>\n",
       "      <td>عزيزة أمير,محمود ذو الفقار,أنور وجدي,نجمة إبرا...</td>\n",
       "    </tr>\n",
       "    <tr>\n",
       "      <th>2</th>\n",
       "      <td>تحت السلاح</td>\n",
       "      <td>8 فبراير 1940</td>\n",
       "      <td>NaN</td>\n",
       "      <td>أحمد علام,زوزو شكيب,عباس فارس,محمد الديب,زينات...</td>\n",
       "    </tr>\n",
       "    <tr>\n",
       "      <th>3</th>\n",
       "      <td>حياة الظلام</td>\n",
       "      <td>1940</td>\n",
       "      <td>ﺩﺭاﻣﺎ</td>\n",
       "      <td>ميمي شكيب,محسن سرحان,روحية خالد,فردوس محمد,علي...</td>\n",
       "    </tr>\n",
       "    <tr>\n",
       "      <th>4</th>\n",
       "      <td>صرخة في الليل</td>\n",
       "      <td>31 اكتوبر 1940</td>\n",
       "      <td>NaN</td>\n",
       "      <td>بدر لاما,رجاء عبده,سميحة سميح,بشارة واكيم,منسى...</td>\n",
       "    </tr>\n",
       "  </tbody>\n",
       "</table>\n",
       "</div>"
      ],
      "text/plain": [
       "      اسم الفيلم     تاريخ العرض تصنيف الفيلم  \\\n",
       "0     قلب المرأة     6 مايو 1940      ﺭﻭﻣﺎﻧﺴﻲ   \n",
       "1         الورشة  28 نوفمبر 1940        ﺩﺭاﻣﺎ   \n",
       "2     تحت السلاح   8 فبراير 1940          NaN   \n",
       "3    حياة الظلام            1940        ﺩﺭاﻣﺎ   \n",
       "4  صرخة في الليل  31 اكتوبر 1940          NaN   \n",
       "\n",
       "                                               تمثيل  \n",
       "0  سليمان نجيب,أمينة رزق,دولت أبيض,عقيلة راتب,سلو...  \n",
       "1  عزيزة أمير,محمود ذو الفقار,أنور وجدي,نجمة إبرا...  \n",
       "2  أحمد علام,زوزو شكيب,عباس فارس,محمد الديب,زينات...  \n",
       "3  ميمي شكيب,محسن سرحان,روحية خالد,فردوس محمد,علي...  \n",
       "4  بدر لاما,رجاء عبده,سميحة سميح,بشارة واكيم,منسى...  "
      ]
     },
     "execution_count": 6,
     "metadata": {},
     "output_type": "execute_result"
    }
   ],
   "source": [
    "df.head()"
   ]
  },
  {
   "cell_type": "markdown",
   "metadata": {},
   "source": [
    "<a id='Rename'></a>\n",
    "### Rename columns\n",
    "\n",
    "**In this section, we just rename column in english in order to easily process**"
   ]
  },
  {
   "cell_type": "code",
   "execution_count": 7,
   "metadata": {},
   "outputs": [],
   "source": [
    "df.rename(columns={'اسم الفيلم': 'original_title', 'تاريخ العرض': 'release_date','تصنيف الفيلم': 'genres','تمثيل': 'cast'},\n",
    "          inplace=True)\n"
   ]
  },
  {
   "cell_type": "code",
   "execution_count": 8,
   "metadata": {},
   "outputs": [
    {
     "data": {
      "text/html": [
       "<div>\n",
       "<style scoped>\n",
       "    .dataframe tbody tr th:only-of-type {\n",
       "        vertical-align: middle;\n",
       "    }\n",
       "\n",
       "    .dataframe tbody tr th {\n",
       "        vertical-align: top;\n",
       "    }\n",
       "\n",
       "    .dataframe thead th {\n",
       "        text-align: right;\n",
       "    }\n",
       "</style>\n",
       "<table border=\"1\" class=\"dataframe\">\n",
       "  <thead>\n",
       "    <tr style=\"text-align: right;\">\n",
       "      <th></th>\n",
       "      <th>original_title</th>\n",
       "      <th>release_date</th>\n",
       "      <th>genres</th>\n",
       "      <th>cast</th>\n",
       "    </tr>\n",
       "  </thead>\n",
       "  <tbody>\n",
       "    <tr>\n",
       "      <th>0</th>\n",
       "      <td>قلب المرأة</td>\n",
       "      <td>6 مايو 1940</td>\n",
       "      <td>ﺭﻭﻣﺎﻧﺴﻲ</td>\n",
       "      <td>سليمان نجيب,أمينة رزق,دولت أبيض,عقيلة راتب,سلو...</td>\n",
       "    </tr>\n",
       "    <tr>\n",
       "      <th>1</th>\n",
       "      <td>الورشة</td>\n",
       "      <td>28 نوفمبر 1940</td>\n",
       "      <td>ﺩﺭاﻣﺎ</td>\n",
       "      <td>عزيزة أمير,محمود ذو الفقار,أنور وجدي,نجمة إبرا...</td>\n",
       "    </tr>\n",
       "    <tr>\n",
       "      <th>2</th>\n",
       "      <td>تحت السلاح</td>\n",
       "      <td>8 فبراير 1940</td>\n",
       "      <td>NaN</td>\n",
       "      <td>أحمد علام,زوزو شكيب,عباس فارس,محمد الديب,زينات...</td>\n",
       "    </tr>\n",
       "    <tr>\n",
       "      <th>3</th>\n",
       "      <td>حياة الظلام</td>\n",
       "      <td>1940</td>\n",
       "      <td>ﺩﺭاﻣﺎ</td>\n",
       "      <td>ميمي شكيب,محسن سرحان,روحية خالد,فردوس محمد,علي...</td>\n",
       "    </tr>\n",
       "    <tr>\n",
       "      <th>4</th>\n",
       "      <td>صرخة في الليل</td>\n",
       "      <td>31 اكتوبر 1940</td>\n",
       "      <td>NaN</td>\n",
       "      <td>بدر لاما,رجاء عبده,سميحة سميح,بشارة واكيم,منسى...</td>\n",
       "    </tr>\n",
       "  </tbody>\n",
       "</table>\n",
       "</div>"
      ],
      "text/plain": [
       "  original_title    release_date   genres  \\\n",
       "0     قلب المرأة     6 مايو 1940  ﺭﻭﻣﺎﻧﺴﻲ   \n",
       "1         الورشة  28 نوفمبر 1940    ﺩﺭاﻣﺎ   \n",
       "2     تحت السلاح   8 فبراير 1940      NaN   \n",
       "3    حياة الظلام            1940    ﺩﺭاﻣﺎ   \n",
       "4  صرخة في الليل  31 اكتوبر 1940      NaN   \n",
       "\n",
       "                                                cast  \n",
       "0  سليمان نجيب,أمينة رزق,دولت أبيض,عقيلة راتب,سلو...  \n",
       "1  عزيزة أمير,محمود ذو الفقار,أنور وجدي,نجمة إبرا...  \n",
       "2  أحمد علام,زوزو شكيب,عباس فارس,محمد الديب,زينات...  \n",
       "3  ميمي شكيب,محسن سرحان,روحية خالد,فردوس محمد,علي...  \n",
       "4  بدر لاما,رجاء عبده,سميحة سميح,بشارة واكيم,منسى...  "
      ]
     },
     "execution_count": 8,
     "metadata": {},
     "output_type": "execute_result"
    }
   ],
   "source": [
    "df.head()"
   ]
  },
  {
   "cell_type": "markdown",
   "metadata": {},
   "source": [
    "<a id='Null'></a>\n",
    "### Remove Null and Duplicates\n",
    "\n",
    "**In this section, we just remove the rows that contain null values along with duplicates**"
   ]
  },
  {
   "cell_type": "markdown",
   "metadata": {},
   "source": [
    "First detect which column has null values"
   ]
  },
  {
   "cell_type": "code",
   "execution_count": 9,
   "metadata": {},
   "outputs": [
    {
     "name": "stdout",
     "output_type": "stream",
     "text": [
      "<class 'pandas.core.frame.DataFrame'>\n",
      "RangeIndex: 2372 entries, 0 to 2371\n",
      "Data columns (total 4 columns):\n",
      "original_title    2372 non-null object\n",
      "release_date      2372 non-null object\n",
      "genres            1219 non-null object\n",
      "cast              2270 non-null object\n",
      "dtypes: object(4)\n",
      "memory usage: 74.2+ KB\n"
     ]
    }
   ],
   "source": [
    "df.info()"
   ]
  },
  {
   "cell_type": "markdown",
   "metadata": {},
   "source": [
    "**Explanation**"
   ]
  },
  {
   "cell_type": "markdown",
   "metadata": {},
   "source": [
    "We can easily detect that there are already columns that contain null values such as\n",
    "        <ul>\n",
    "            <li>genres\n",
    "            <li>cast\n",
    "        </ul>\n",
    "Because the data contains 2372 rows while these features have fewer values than expected.\n",
    "\n",
    "**Cast and Genres both might affect our analysis and we cannot replace these NaN  with any values since they are qualtative values not quantative one that is why we need to remove them** "
   ]
  },
  {
   "cell_type": "markdown",
   "metadata": {},
   "source": [
    "> **Number of Null values per column**"
   ]
  },
  {
   "cell_type": "code",
   "execution_count": 10,
   "metadata": {},
   "outputs": [
    {
     "data": {
      "text/plain": [
       "original_title       0\n",
       "release_date         0\n",
       "genres            1153\n",
       "cast               102\n",
       "dtype: int64"
      ]
     },
     "execution_count": 10,
     "metadata": {},
     "output_type": "execute_result"
    }
   ],
   "source": [
    "#making sure that everthing is going in the right way\n",
    "df.isnull().sum()"
   ]
  },
  {
   "cell_type": "code",
   "execution_count": 11,
   "metadata": {},
   "outputs": [],
   "source": [
    "#Dropping rows contained NaN\n",
    "df.dropna(axis=0,inplace=True)\n",
    "df.reset_index(drop=True, inplace=True)"
   ]
  },
  {
   "cell_type": "code",
   "execution_count": 12,
   "metadata": {},
   "outputs": [
    {
     "name": "stdout",
     "output_type": "stream",
     "text": [
      "<class 'pandas.core.frame.DataFrame'>\n",
      "RangeIndex: 1211 entries, 0 to 1210\n",
      "Data columns (total 4 columns):\n",
      "original_title    1211 non-null object\n",
      "release_date      1211 non-null object\n",
      "genres            1211 non-null object\n",
      "cast              1211 non-null object\n",
      "dtypes: object(4)\n",
      "memory usage: 37.9+ KB\n"
     ]
    }
   ],
   "source": [
    "df.info()"
   ]
  },
  {
   "cell_type": "markdown",
   "metadata": {},
   "source": [
    "> **Number of Duplicates**"
   ]
  },
  {
   "cell_type": "code",
   "execution_count": 13,
   "metadata": {},
   "outputs": [
    {
     "data": {
      "text/plain": [
       "1"
      ]
     },
     "execution_count": 13,
     "metadata": {},
     "output_type": "execute_result"
    }
   ],
   "source": [
    "df.duplicated().sum()"
   ]
  },
  {
   "cell_type": "code",
   "execution_count": 14,
   "metadata": {},
   "outputs": [],
   "source": [
    "#Dropping duplicated values\n",
    "df.drop_duplicates(inplace=True)"
   ]
  },
  {
   "cell_type": "markdown",
   "metadata": {},
   "source": [
    "Final data shape"
   ]
  },
  {
   "cell_type": "code",
   "execution_count": 15,
   "metadata": {},
   "outputs": [
    {
     "data": {
      "text/plain": [
       "(1210, 4)"
      ]
     },
     "execution_count": 15,
     "metadata": {},
     "output_type": "execute_result"
    }
   ],
   "source": [
    "df.shape"
   ]
  },
  {
   "cell_type": "code",
   "execution_count": 16,
   "metadata": {},
   "outputs": [
    {
     "data": {
      "text/html": [
       "<div>\n",
       "<style scoped>\n",
       "    .dataframe tbody tr th:only-of-type {\n",
       "        vertical-align: middle;\n",
       "    }\n",
       "\n",
       "    .dataframe tbody tr th {\n",
       "        vertical-align: top;\n",
       "    }\n",
       "\n",
       "    .dataframe thead th {\n",
       "        text-align: right;\n",
       "    }\n",
       "</style>\n",
       "<table border=\"1\" class=\"dataframe\">\n",
       "  <thead>\n",
       "    <tr style=\"text-align: right;\">\n",
       "      <th></th>\n",
       "      <th>original_title</th>\n",
       "      <th>release_date</th>\n",
       "      <th>genres</th>\n",
       "      <th>cast</th>\n",
       "    </tr>\n",
       "  </thead>\n",
       "  <tbody>\n",
       "    <tr>\n",
       "      <th>0</th>\n",
       "      <td>قلب المرأة</td>\n",
       "      <td>6 مايو 1940</td>\n",
       "      <td>ﺭﻭﻣﺎﻧﺴﻲ</td>\n",
       "      <td>سليمان نجيب,أمينة رزق,دولت أبيض,عقيلة راتب,سلو...</td>\n",
       "    </tr>\n",
       "    <tr>\n",
       "      <th>1</th>\n",
       "      <td>الورشة</td>\n",
       "      <td>28 نوفمبر 1940</td>\n",
       "      <td>ﺩﺭاﻣﺎ</td>\n",
       "      <td>عزيزة أمير,محمود ذو الفقار,أنور وجدي,نجمة إبرا...</td>\n",
       "    </tr>\n",
       "    <tr>\n",
       "      <th>2</th>\n",
       "      <td>حياة الظلام</td>\n",
       "      <td>1940</td>\n",
       "      <td>ﺩﺭاﻣﺎ</td>\n",
       "      <td>ميمي شكيب,محسن سرحان,روحية خالد,فردوس محمد,علي...</td>\n",
       "    </tr>\n",
       "    <tr>\n",
       "      <th>3</th>\n",
       "      <td>الباشمقاول</td>\n",
       "      <td>18 يناير 1940</td>\n",
       "      <td>ﻛﻮﻣﻴﺪﻱ</td>\n",
       "      <td>فوزي الجزايرلي,ميمي شكيب,إحسان الجزايرلي,زوزو ...</td>\n",
       "    </tr>\n",
       "    <tr>\n",
       "      <th>4</th>\n",
       "      <td>يوم سعيد</td>\n",
       "      <td>15 يناير 1940</td>\n",
       "      <td>ﺭﻭﻣﺎﻧﺴﻲ</td>\n",
       "      <td>محمد عبدالوهاب,علوية جميل,فاطمة محجوب,فاتن حما...</td>\n",
       "    </tr>\n",
       "    <tr>\n",
       "      <th>5</th>\n",
       "      <td>الفرسان الثلاثة</td>\n",
       "      <td>15 مايو 1941</td>\n",
       "      <td>ﻛﻮﻣﻴﺪﻱ</td>\n",
       "      <td>فوزي الجزايرلي,عقيلة راتب,إحسان الجزايرلي,فردو...</td>\n",
       "    </tr>\n",
       "    <tr>\n",
       "      <th>6</th>\n",
       "      <td>ليلى بنت مدارس</td>\n",
       "      <td>16 اكتوبر 1941</td>\n",
       "      <td>اﺳﺘﻌﺮاﺿﻲ</td>\n",
       "      <td>يوسف وهبي,ليلى مراد,ميمي شكيب,محسن سرحان,بشارة...</td>\n",
       "    </tr>\n",
       "    <tr>\n",
       "      <th>7</th>\n",
       "      <td>امرأة خطرة</td>\n",
       "      <td>10 ابريل 1941</td>\n",
       "      <td>ﺩﺭاﻣﺎ</td>\n",
       "      <td>آسيا داغر,حسين صدقي,عباس فارس,روحية خالد,زينب ...</td>\n",
       "    </tr>\n",
       "    <tr>\n",
       "      <th>8</th>\n",
       "      <td>ألف ليلة وليلة</td>\n",
       "      <td>20 مارس 1941</td>\n",
       "      <td>ﻣﻐﺎﻣﺮاﺕ</td>\n",
       "      <td>علي الكسار,عقيلة راتب,حامد مرسي,علي عبدالعال,ز...</td>\n",
       "    </tr>\n",
       "    <tr>\n",
       "      <th>9</th>\n",
       "      <td>انتصار الشباب</td>\n",
       "      <td>24 مارس 1941</td>\n",
       "      <td>اﺳﺘﻌﺮاﺿﻲ</td>\n",
       "      <td>أسمهان,فريد الأطرش,أنور وجدي,بشارة واكيم,عبدال...</td>\n",
       "    </tr>\n",
       "  </tbody>\n",
       "</table>\n",
       "</div>"
      ],
      "text/plain": [
       "    original_title    release_date    genres  \\\n",
       "0       قلب المرأة     6 مايو 1940   ﺭﻭﻣﺎﻧﺴﻲ   \n",
       "1           الورشة  28 نوفمبر 1940     ﺩﺭاﻣﺎ   \n",
       "2      حياة الظلام            1940     ﺩﺭاﻣﺎ   \n",
       "3       الباشمقاول   18 يناير 1940    ﻛﻮﻣﻴﺪﻱ   \n",
       "4         يوم سعيد   15 يناير 1940   ﺭﻭﻣﺎﻧﺴﻲ   \n",
       "5  الفرسان الثلاثة    15 مايو 1941    ﻛﻮﻣﻴﺪﻱ   \n",
       "6   ليلى بنت مدارس  16 اكتوبر 1941  اﺳﺘﻌﺮاﺿﻲ   \n",
       "7       امرأة خطرة   10 ابريل 1941     ﺩﺭاﻣﺎ   \n",
       "8   ألف ليلة وليلة    20 مارس 1941   ﻣﻐﺎﻣﺮاﺕ   \n",
       "9    انتصار الشباب    24 مارس 1941  اﺳﺘﻌﺮاﺿﻲ   \n",
       "\n",
       "                                                cast  \n",
       "0  سليمان نجيب,أمينة رزق,دولت أبيض,عقيلة راتب,سلو...  \n",
       "1  عزيزة أمير,محمود ذو الفقار,أنور وجدي,نجمة إبرا...  \n",
       "2  ميمي شكيب,محسن سرحان,روحية خالد,فردوس محمد,علي...  \n",
       "3  فوزي الجزايرلي,ميمي شكيب,إحسان الجزايرلي,زوزو ...  \n",
       "4  محمد عبدالوهاب,علوية جميل,فاطمة محجوب,فاتن حما...  \n",
       "5  فوزي الجزايرلي,عقيلة راتب,إحسان الجزايرلي,فردو...  \n",
       "6  يوسف وهبي,ليلى مراد,ميمي شكيب,محسن سرحان,بشارة...  \n",
       "7  آسيا داغر,حسين صدقي,عباس فارس,روحية خالد,زينب ...  \n",
       "8  علي الكسار,عقيلة راتب,حامد مرسي,علي عبدالعال,ز...  \n",
       "9  أسمهان,فريد الأطرش,أنور وجدي,بشارة واكيم,عبدال...  "
      ]
     },
     "execution_count": 16,
     "metadata": {},
     "output_type": "execute_result"
    }
   ],
   "source": [
    "df.head(10)"
   ]
  },
  {
   "cell_type": "markdown",
   "metadata": {},
   "source": [
    "<a id='eda'></a>\n",
    "## Exploratory Data Analysis</a></li>"
   ]
  },
  {
   "cell_type": "code",
   "execution_count": 17,
   "metadata": {},
   "outputs": [
    {
     "data": {
      "text/plain": [
       "ﺩﺭاﻣﺎ           440\n",
       "ﺭﻭﻣﺎﻧﺴﻲ         256\n",
       "ﻛﻮﻣﻴﺪﻱ          242\n",
       "اﺳﺘﻌﺮاﺿﻲ         83\n",
       "ﺟﺮﻳﻤﺔ            65\n",
       "تاريخي           29\n",
       "ﺣﺮﻛﺔ             26\n",
       "ﺗﺸﻮﻳﻖ ﻭﺇﺛﺎﺭﺓ     12\n",
       "ﻣﻐﺎﻣﺮاﺕ          11\n",
       "ﻏﻤﻮﺽ             10\n",
       "ﺳﻴﺮﺓ ﺫاﺗﻴﺔ        8\n",
       "ﺣﺮﺏ               7\n",
       "ﺧﻴﺎﻝ ﻋﻠﻤﻲ         5\n",
       "ﻗﺼﻴﺮ              4\n",
       "ﺭﻳﺎﺿﻲ             3\n",
       "ﻋﺎﺋﻠﻲ             3\n",
       "ﺧﻴﺎﻝ              2\n",
       "ﻭﺛﺎﺋﻘﻲ            2\n",
       "ﺭﻋﺐ               1\n",
       "ﺭﺳﻮﻡ ﻣﺘﺤﺮﻛﺔ       1\n",
       "Name: genres, dtype: int64"
      ]
     },
     "execution_count": 17,
     "metadata": {},
     "output_type": "execute_result"
    }
   ],
   "source": [
    "df['genres'].value_counts()"
   ]
  },
  {
   "cell_type": "markdown",
   "metadata": {},
   "source": [
    "**We need to translate genres into English to be able to visulize them.**"
   ]
  },
  {
   "cell_type": "code",
   "execution_count": 18,
   "metadata": {},
   "outputs": [],
   "source": [
    "df['genres']=df['genres'].replace({'ﺩﺭاﻣﺎ': 'Drama',\n",
    "                      'ﺭﻭﻣﺎﻧﺴﻲ': 'Romance',\n",
    "                      'ﻛﻮﻣﻴﺪﻱ': 'Comedy',\n",
    "                      'اﺳﺘﻌﺮاﺿﻲ':'Musical',\n",
    "                      'ﺟﺮﻳﻤﺔ':'Crime',\n",
    "                      'تاريخي':'Historical',\n",
    "                      'ﺣﺮﻛﺔ':'Action',\n",
    "                      'ﺗﺸﻮﻳﻖ ﻭﺇﺛﺎﺭﺓ':'Thriller & Excitement',\n",
    "                      'ﻣﻐﺎﻣﺮاﺕ':'Adventure',\n",
    "                      'ﻏﻤﻮﺽ':'Mystery',\n",
    "                      'ﺳﻴﺮﺓ ﺫاﺗﻴﺔ':'Autobiography',\n",
    "                      'ﺣﺮﺏ':'War',\n",
    "                      'ﺧﻴﺎﻝ ﻋﻠﻤﻲ':'Science-fiction',\n",
    "                      'ﻗﺼﻴﺮ':'Short-film',\n",
    "                      'ﺭﻳﺎﺿﻲ':'Sports',\n",
    "                      'ﻋﺎﺋﻠﻲ':'Family',\n",
    "                      'ﻭﺛﺎﺋﻘﻲ':'Documentary',\n",
    "                      'ﺧﻴﺎﻝ':'Fiction',\n",
    "                      'ﺭﺳﻮﻡ ﻣﺘﺤﺮﻛﺔ':'Animation',\n",
    "                      'ﺭﻋﺐ':'Horror'\n",
    "                     });"
   ]
  },
  {
   "cell_type": "code",
   "execution_count": 19,
   "metadata": {},
   "outputs": [
    {
     "data": {
      "text/plain": [
       "Drama                    440\n",
       "Romance                  256\n",
       "Comedy                   242\n",
       "Musical                   83\n",
       "Crime                     65\n",
       "Historical                29\n",
       "Action                    26\n",
       "Thriller & Excitement     12\n",
       "Adventure                 11\n",
       "Mystery                   10\n",
       "Autobiography              8\n",
       "War                        7\n",
       "Science-fiction            5\n",
       "Short-film                 4\n",
       "Family                     3\n",
       "Sports                     3\n",
       "Fiction                    2\n",
       "Documentary                2\n",
       "Animation                  1\n",
       "Horror                     1\n",
       "Name: genres, dtype: int64"
      ]
     },
     "execution_count": 19,
     "metadata": {},
     "output_type": "execute_result"
    }
   ],
   "source": [
    "df['genres'].value_counts()"
   ]
  },
  {
   "cell_type": "code",
   "execution_count": 20,
   "metadata": {},
   "outputs": [
    {
     "data": {
      "text/html": [
       "<div>\n",
       "<style scoped>\n",
       "    .dataframe tbody tr th:only-of-type {\n",
       "        vertical-align: middle;\n",
       "    }\n",
       "\n",
       "    .dataframe tbody tr th {\n",
       "        vertical-align: top;\n",
       "    }\n",
       "\n",
       "    .dataframe thead th {\n",
       "        text-align: right;\n",
       "    }\n",
       "</style>\n",
       "<table border=\"1\" class=\"dataframe\">\n",
       "  <thead>\n",
       "    <tr style=\"text-align: right;\">\n",
       "      <th></th>\n",
       "      <th>original_title</th>\n",
       "      <th>genres</th>\n",
       "    </tr>\n",
       "  </thead>\n",
       "  <tbody>\n",
       "    <tr>\n",
       "      <th>0</th>\n",
       "      <td>قلب المرأة</td>\n",
       "      <td>Romance</td>\n",
       "    </tr>\n",
       "    <tr>\n",
       "      <th>1</th>\n",
       "      <td>الورشة</td>\n",
       "      <td>Drama</td>\n",
       "    </tr>\n",
       "    <tr>\n",
       "      <th>2</th>\n",
       "      <td>حياة الظلام</td>\n",
       "      <td>Drama</td>\n",
       "    </tr>\n",
       "    <tr>\n",
       "      <th>3</th>\n",
       "      <td>الباشمقاول</td>\n",
       "      <td>Comedy</td>\n",
       "    </tr>\n",
       "    <tr>\n",
       "      <th>4</th>\n",
       "      <td>يوم سعيد</td>\n",
       "      <td>Romance</td>\n",
       "    </tr>\n",
       "  </tbody>\n",
       "</table>\n",
       "</div>"
      ],
      "text/plain": [
       "  original_title   genres\n",
       "0     قلب المرأة  Romance\n",
       "1         الورشة    Drama\n",
       "2    حياة الظلام    Drama\n",
       "3     الباشمقاول   Comedy\n",
       "4       يوم سعيد  Romance"
      ]
     },
     "execution_count": 20,
     "metadata": {},
     "output_type": "execute_result"
    }
   ],
   "source": [
    "#Getting the genres column and put it into a new dataframe\n",
    "genres_col=df[['original_title','genres']]\n",
    "genres_df = pd.DataFrame(genres_col)\n",
    "genres_df.head()"
   ]
  },
  {
   "cell_type": "code",
   "execution_count": 21,
   "metadata": {},
   "outputs": [
    {
     "data": {
      "text/html": [
       "<div>\n",
       "<style scoped>\n",
       "    .dataframe tbody tr th:only-of-type {\n",
       "        vertical-align: middle;\n",
       "    }\n",
       "\n",
       "    .dataframe tbody tr th {\n",
       "        vertical-align: top;\n",
       "    }\n",
       "\n",
       "    .dataframe thead th {\n",
       "        text-align: right;\n",
       "    }\n",
       "</style>\n",
       "<table border=\"1\" class=\"dataframe\">\n",
       "  <thead>\n",
       "    <tr style=\"text-align: right;\">\n",
       "      <th></th>\n",
       "      <th>genres</th>\n",
       "      <th>original_title</th>\n",
       "    </tr>\n",
       "  </thead>\n",
       "  <tbody>\n",
       "    <tr>\n",
       "      <th>0</th>\n",
       "      <td>Romance</td>\n",
       "      <td>قلب المرأة</td>\n",
       "    </tr>\n",
       "    <tr>\n",
       "      <th>1</th>\n",
       "      <td>Drama</td>\n",
       "      <td>الورشة</td>\n",
       "    </tr>\n",
       "    <tr>\n",
       "      <th>2</th>\n",
       "      <td>Drama</td>\n",
       "      <td>حياة الظلام</td>\n",
       "    </tr>\n",
       "    <tr>\n",
       "      <th>3</th>\n",
       "      <td>Comedy</td>\n",
       "      <td>الباشمقاول</td>\n",
       "    </tr>\n",
       "    <tr>\n",
       "      <th>4</th>\n",
       "      <td>Romance</td>\n",
       "      <td>يوم سعيد</td>\n",
       "    </tr>\n",
       "  </tbody>\n",
       "</table>\n",
       "</div>"
      ],
      "text/plain": [
       "    genres original_title\n",
       "0  Romance     قلب المرأة\n",
       "1    Drama         الورشة\n",
       "2    Drama    حياة الظلام\n",
       "3   Comedy     الباشمقاول\n",
       "4  Romance       يوم سعيد"
      ]
     },
     "execution_count": 21,
     "metadata": {},
     "output_type": "execute_result"
    }
   ],
   "source": [
    "# Spliting the genres from dataframe/\n",
    "genres_splitted_df  = pd.concat([df['genres'],df['original_title']], axis=1, keys=['genres','original_title'])\n",
    "genres_splitted_df.head()"
   ]
  },
  {
   "cell_type": "code",
   "execution_count": 22,
   "metadata": {},
   "outputs": [
    {
     "data": {
      "image/png": "[encoded data removed]",
      "text/plain": [
       "<Figure size 1440x360 with 1 Axes>"
      ]
     },
     "metadata": {
      "needs_background": "light"
     },
     "output_type": "display_data"
    }
   ],
   "source": [
    "# Create a bar chart to see the distribuation\n",
    "genres_splitted_df['genres'].value_counts().plot(kind='bar',figsize=(20,5))\n",
    "plt.title('Most Common Genres over the decades',fontsize=40)\n",
    "plt.xlabel('Genres',fontsize=10)\n",
    "plt.ylabel('Frequency over each genre' ,fontsize=10)\n",
    "plt.show();"
   ]
  },
  {
   "cell_type": "code",
   "execution_count": 23,
   "metadata": {},
   "outputs": [
    {
     "data": {
      "text/plain": [
       "0    سليمان نجيب,أمينة رزق,دولت أبيض,عقيلة راتب,سلو...\n",
       "1    عزيزة أمير,محمود ذو الفقار,أنور وجدي,نجمة إبرا...\n",
       "2    ميمي شكيب,محسن سرحان,روحية خالد,فردوس محمد,علي...\n",
       "3    فوزي الجزايرلي,ميمي شكيب,إحسان الجزايرلي,زوزو ...\n",
       "4    محمد عبدالوهاب,علوية جميل,فاطمة محجوب,فاتن حما...\n",
       "5    فوزي الجزايرلي,عقيلة راتب,إحسان الجزايرلي,فردو...\n",
       "6    يوسف وهبي,ليلى مراد,ميمي شكيب,محسن سرحان,بشارة...\n",
       "7    آسيا داغر,حسين صدقي,عباس فارس,روحية خالد,زينب ...\n",
       "8    علي الكسار,عقيلة راتب,حامد مرسي,علي عبدالعال,ز...\n",
       "9    أسمهان,فريد الأطرش,أنور وجدي,بشارة واكيم,عبدال...\n",
       "Name: cast, dtype: object"
      ]
     },
     "execution_count": 23,
     "metadata": {},
     "output_type": "execute_result"
    }
   ],
   "source": [
    "df.cast.head(10)"
   ]
  },
  {
   "cell_type": "code",
   "execution_count": 24,
   "metadata": {},
   "outputs": [
    {
     "data": {
      "text/plain": [
       "'سليمان نجيب,أمينة رزق,دولت أبيض,عقيلة راتب,سلوى علام,زوزو نبيل,نادية أحمد,نينا زاكى,أنور وجدي,حسن فايق,فاخر فاخر,محمود المليجي,زكي إبراهيم,حسن مختار صقر,عزيزة محمد,مرجريت صفير,مختار عثمان,لطفي الحكيم'"
      ]
     },
     "execution_count": 24,
     "metadata": {},
     "output_type": "execute_result"
    }
   ],
   "source": [
    "df.cast.iloc[0]"
   ]
  },
  {
   "cell_type": "code",
   "execution_count": 25,
   "metadata": {},
   "outputs": [
    {
     "data": {
      "text/html": [
       "<div>\n",
       "<style scoped>\n",
       "    .dataframe tbody tr th:only-of-type {\n",
       "        vertical-align: middle;\n",
       "    }\n",
       "\n",
       "    .dataframe tbody tr th {\n",
       "        vertical-align: top;\n",
       "    }\n",
       "\n",
       "    .dataframe thead th {\n",
       "        text-align: right;\n",
       "    }\n",
       "</style>\n",
       "<table border=\"1\" class=\"dataframe\">\n",
       "  <thead>\n",
       "    <tr style=\"text-align: right;\">\n",
       "      <th></th>\n",
       "      <th>actor</th>\n",
       "      <th>original_title</th>\n",
       "      <th>geners</th>\n",
       "    </tr>\n",
       "  </thead>\n",
       "  <tbody>\n",
       "    <tr>\n",
       "      <th>0</th>\n",
       "      <td>سليمان نجيب</td>\n",
       "      <td>قلب المرأة</td>\n",
       "      <td>Romance</td>\n",
       "    </tr>\n",
       "    <tr>\n",
       "      <th>0</th>\n",
       "      <td>أمينة رزق</td>\n",
       "      <td>قلب المرأة</td>\n",
       "      <td>Romance</td>\n",
       "    </tr>\n",
       "    <tr>\n",
       "      <th>0</th>\n",
       "      <td>دولت أبيض</td>\n",
       "      <td>قلب المرأة</td>\n",
       "      <td>Romance</td>\n",
       "    </tr>\n",
       "    <tr>\n",
       "      <th>0</th>\n",
       "      <td>عقيلة راتب</td>\n",
       "      <td>قلب المرأة</td>\n",
       "      <td>Romance</td>\n",
       "    </tr>\n",
       "    <tr>\n",
       "      <th>0</th>\n",
       "      <td>سلوى علام</td>\n",
       "      <td>قلب المرأة</td>\n",
       "      <td>Romance</td>\n",
       "    </tr>\n",
       "    <tr>\n",
       "      <th>0</th>\n",
       "      <td>زوزو نبيل</td>\n",
       "      <td>قلب المرأة</td>\n",
       "      <td>Romance</td>\n",
       "    </tr>\n",
       "    <tr>\n",
       "      <th>0</th>\n",
       "      <td>نادية أحمد</td>\n",
       "      <td>قلب المرأة</td>\n",
       "      <td>Romance</td>\n",
       "    </tr>\n",
       "    <tr>\n",
       "      <th>0</th>\n",
       "      <td>نينا زاكى</td>\n",
       "      <td>قلب المرأة</td>\n",
       "      <td>Romance</td>\n",
       "    </tr>\n",
       "    <tr>\n",
       "      <th>0</th>\n",
       "      <td>أنور وجدي</td>\n",
       "      <td>قلب المرأة</td>\n",
       "      <td>Romance</td>\n",
       "    </tr>\n",
       "    <tr>\n",
       "      <th>0</th>\n",
       "      <td>حسن فايق</td>\n",
       "      <td>قلب المرأة</td>\n",
       "      <td>Romance</td>\n",
       "    </tr>\n",
       "    <tr>\n",
       "      <th>0</th>\n",
       "      <td>فاخر فاخر</td>\n",
       "      <td>قلب المرأة</td>\n",
       "      <td>Romance</td>\n",
       "    </tr>\n",
       "    <tr>\n",
       "      <th>0</th>\n",
       "      <td>محمود المليجي</td>\n",
       "      <td>قلب المرأة</td>\n",
       "      <td>Romance</td>\n",
       "    </tr>\n",
       "    <tr>\n",
       "      <th>0</th>\n",
       "      <td>زكي إبراهيم</td>\n",
       "      <td>قلب المرأة</td>\n",
       "      <td>Romance</td>\n",
       "    </tr>\n",
       "    <tr>\n",
       "      <th>0</th>\n",
       "      <td>حسن مختار صقر</td>\n",
       "      <td>قلب المرأة</td>\n",
       "      <td>Romance</td>\n",
       "    </tr>\n",
       "    <tr>\n",
       "      <th>0</th>\n",
       "      <td>عزيزة محمد</td>\n",
       "      <td>قلب المرأة</td>\n",
       "      <td>Romance</td>\n",
       "    </tr>\n",
       "    <tr>\n",
       "      <th>0</th>\n",
       "      <td>مرجريت صفير</td>\n",
       "      <td>قلب المرأة</td>\n",
       "      <td>Romance</td>\n",
       "    </tr>\n",
       "    <tr>\n",
       "      <th>0</th>\n",
       "      <td>مختار عثمان</td>\n",
       "      <td>قلب المرأة</td>\n",
       "      <td>Romance</td>\n",
       "    </tr>\n",
       "    <tr>\n",
       "      <th>0</th>\n",
       "      <td>لطفي الحكيم</td>\n",
       "      <td>قلب المرأة</td>\n",
       "      <td>Romance</td>\n",
       "    </tr>\n",
       "  </tbody>\n",
       "</table>\n",
       "</div>"
      ],
      "text/plain": [
       "           actor original_title   geners\n",
       "0    سليمان نجيب     قلب المرأة  Romance\n",
       "0      أمينة رزق     قلب المرأة  Romance\n",
       "0      دولت أبيض     قلب المرأة  Romance\n",
       "0     عقيلة راتب     قلب المرأة  Romance\n",
       "0      سلوى علام     قلب المرأة  Romance\n",
       "0      زوزو نبيل     قلب المرأة  Romance\n",
       "0     نادية أحمد     قلب المرأة  Romance\n",
       "0      نينا زاكى     قلب المرأة  Romance\n",
       "0      أنور وجدي     قلب المرأة  Romance\n",
       "0       حسن فايق     قلب المرأة  Romance\n",
       "0      فاخر فاخر     قلب المرأة  Romance\n",
       "0  محمود المليجي     قلب المرأة  Romance\n",
       "0    زكي إبراهيم     قلب المرأة  Romance\n",
       "0  حسن مختار صقر     قلب المرأة  Romance\n",
       "0     عزيزة محمد     قلب المرأة  Romance\n",
       "0    مرجريت صفير     قلب المرأة  Romance\n",
       "0    مختار عثمان     قلب المرأة  Romance\n",
       "0    لطفي الحكيم     قلب المرأة  Romance"
      ]
     },
     "execution_count": 25,
     "metadata": {},
     "output_type": "execute_result"
    }
   ],
   "source": [
    "# Spliting the cast of each film.\n",
    "actors = df.cast.str.split(',', expand=True).stack().reset_index(level=1,drop=True)\n",
    "film_name = df['original_title']\n",
    "geners = df['genres']\n",
    "\n",
    "df_splitted  = pd.concat([actors,film_name,geners], axis=1, keys=['actor','original_title','geners'])\n",
    "df_splitted.head(18)"
   ]
  },
  {
   "cell_type": "markdown",
   "metadata": {},
   "source": [
    "**These are the top 10 actor participating in fims**"
   ]
  },
  {
   "cell_type": "code",
   "execution_count": 34,
   "metadata": {},
   "outputs": [
    {
     "data": {
      "text/plain": [
       "3437"
      ]
     },
     "execution_count": 34,
     "metadata": {},
     "output_type": "execute_result"
    }
   ],
   "source": [
    "# Get the number of actors\n",
    "df_splitted['actor'].nunique()"
   ]
  },
  {
   "cell_type": "code",
   "execution_count": 43,
   "metadata": {},
   "outputs": [
    {
     "data": {
      "text/plain": [
       "عبدالغني النجدي       233\n",
       "حسين إسماعيل          220\n",
       "عبدالمنعم إسماعيل     209\n",
       "محمود المليجي         207\n",
       "محسن حسنين            173\n",
       "محمد شوقي             155\n",
       "فريد شوقي             153\n",
       "عبدالمنعم بسيوني      137\n",
       "إسماعيل يس            136\n",
       "توفيق الدقن           136\n",
       "عماد حمدي             133\n",
       "مختار السيد           132\n",
       "مطاوع عويس            130\n",
       "عبدالحميد بدوي        129\n",
       "ثريا فخري             126\n",
       "وداد حمدي             119\n",
       "محمد صبيح             115\n",
       "رياض القصبجي          111\n",
       "شكري سرحان            108\n",
       "عبدالمنعم إبراهيم     107\n",
       "صالح الإسكندراني      107\n",
       "رشدي أباظة            105\n",
       "زكي إبراهيم           104\n",
       "زينات صدقي            103\n",
       "عبدالعظيم كامل        101\n",
       "عزيزة حلمي            100\n",
       "حسين رياض              96\n",
       "عباس الدالي            96\n",
       "طوسون معتمد            96\n",
       "عبد المنعم سعودي       95\n",
       "عبدالحميد زكي          95\n",
       "إبراهيم حشمت           94\n",
       "شفيق نور الدين         94\n",
       "صلاح نظمي              90\n",
       "عدلي كاسب              90\n",
       "عبدالسلام النابلسي     88\n",
       "ميمي شكيب              88\n",
       "نجوى فؤاد              87\n",
       "فردوس محمد             87\n",
       "كمال الشناوي           87\n",
       "محمد رضا               87\n",
       "لطفي الحكيم            86\n",
       "حسن فايق               85\n",
       "شادية                  82\n",
       "سراج منير              80\n",
       "إسكندر منسي            79\n",
       "مريم فخر الدين         76\n",
       "عبدالوارث عسر          73\n",
       "منير الفنجري           73\n",
       "حسن يوسف               72\n",
       "سميحة محمد             72\n",
       "أحمد رمزي              71\n",
       "عباس رحمي              69\n",
       "فاتن حمامة             68\n",
       "الطوخي توفيق           68\n",
       "إستيفان روستي          67\n",
       "سعاد حسني              67\n",
       "أنور مدكور             65\n",
       "فتحية شاهين            64\n",
       "محمد أبو حشيش          64\n",
       "Name: actor, dtype: int64"
      ]
     },
     "execution_count": 43,
     "metadata": {},
     "output_type": "execute_result"
    }
   ],
   "source": [
    "# Top 20 preforming actors\n",
    "df_splitted['actor'].value_counts().head(60)"
   ]
  },
  {
   "cell_type": "code",
   "execution_count": 48,
   "metadata": {},
   "outputs": [
    {
     "data": {
      "image/png": "[encoded data removed]",
      "text/plain": [
       "<Figure size 1440x360 with 1 Axes>"
      ]
     },
     "metadata": {
      "needs_background": "light"
     },
     "output_type": "display_data"
    }
   ],
   "source": [
    "# Create a bar chart to see the distribuation\n",
    "df_splitted['actor'].value_counts().head(60).plot(kind='bar',figsize=(20,5))\n",
    "plt.title('Top 60 preforming actors',fontsize=40)\n",
    "plt.xlabel('Actor name',fontsize=10)\n",
    "plt.ylabel('Number of preformed films' ,fontsize=10)\n",
    "plt.show();"
   ]
  },
  {
   "cell_type": "markdown",
   "metadata": {},
   "source": [
    "**Follow Up**: We need to translate names from Arabic into English"
   ]
  },
  {
   "cell_type": "code",
   "execution_count": 49,
   "metadata": {},
   "outputs": [
    {
     "data": {
      "text/plain": [
       "<matplotlib.axes._subplots.AxesSubplot at 0x1a276bd160>"
      ]
     },
     "execution_count": 49,
     "metadata": {},
     "output_type": "execute_result"
    },
    {
     "data": {
      "image/png": "[encoded data removed]",
      "text/plain": [
       "<Figure size 432x288 with 1 Axes>"
      ]
     },
     "metadata": {
      "needs_background": "light"
     },
     "output_type": "display_data"
    }
   ],
   "source": [
    "df_splitted['actor'].value_counts().hist()"
   ]
  },
  {
   "cell_type": "markdown",
   "metadata": {},
   "source": [
    "**Importgoogle.cloud.translate api in order to translate actors names from Arabic to English**"
   ]
  },
  {
   "cell_type": "code",
   "execution_count": 50,
   "metadata": {},
   "outputs": [],
   "source": [
    "import os\n",
    "os.environ[\"GOOGLE_APPLICATION_CREDENTIALS\"]=\"translate_key.json\"\n",
    "from google.cloud import translate\n",
    "translator = translate.Client()"
   ]
  },
  {
   "cell_type": "code",
   "execution_count": 51,
   "metadata": {},
   "outputs": [],
   "source": [
    "def translate(text):\n",
    "    result = translator.translate(text,source_language='ar',target_language='en')\n",
    "    return result['translatedText']"
   ]
  },
  {
   "cell_type": "code",
   "execution_count": null,
   "metadata": {},
   "outputs": [],
   "source": [
    "names = {}\n",
    "for name in list(df_splitted.actor):\n",
    "    translation = translate(name)\n",
    "    names[name]=translation"
   ]
  },
  {
   "cell_type": "code",
   "execution_count": null,
   "metadata": {},
   "outputs": [],
   "source": [
    "names"
   ]
  },
  {
   "cell_type": "code",
   "execution_count": null,
   "metadata": {},
   "outputs": [],
   "source": [
    "from googletrans import Translator\n",
    "translator = Translator()\n",
    "\n",
    "translated = translator.translate('عبدالمنعم إسماعيل', src='ar',dest='en')\n",
    "# <Translated src=la dest=en text=The truth is my light pronunciation=The truth is my light>"
   ]
  },
  {
   "cell_type": "code",
   "execution_count": null,
   "metadata": {},
   "outputs": [],
   "source": [
    "translated.text"
   ]
  },
  {
   "cell_type": "code",
   "execution_count": null,
   "metadata": {},
   "outputs": [],
   "source": [
    "# Create a bar chart to see the distribuation\n",
    "df_splitted['actor'].value_counts(20).plot(kind='bar',figsize=(20,5))\n",
    "plt.title('Most Common Genres over the decades',fontsize=40)\n",
    "plt.xlabel('Genres',fontsize=10)\n",
    "plt.ylabel('Frequency over each genre' ,fontsize=10)\n",
    "plt.show();"
   ]
  },
  {
   "cell_type": "code",
   "execution_count": null,
   "metadata": {},
   "outputs": [],
   "source": []
  },
  {
   "cell_type": "code",
   "execution_count": null,
   "metadata": {},
   "outputs": [],
   "source": []
  },
  {
   "cell_type": "code",
   "execution_count": null,
   "metadata": {},
   "outputs": [],
   "source": []
  }
 ],
 "metadata": {
  "kernelspec": {
   "display_name": "Python [conda root]",
   "language": "python",
   "name": "conda-root-py"
  },
  "language_info": {
   "codemirror_mode": {
    "name": "ipython",
    "version": 3
   },
   "file_extension": ".py",
   "mimetype": "text/x-python",
   "name": "python",
   "nbconvert_exporter": "python",
   "pygments_lexer": "ipython3",
   "version": "3.6.7"
  }
 },
 "nbformat": 4,
 "nbformat_minor": 2
}
